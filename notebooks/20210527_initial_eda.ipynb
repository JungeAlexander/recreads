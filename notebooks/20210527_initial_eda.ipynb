{
 "cells": [
  {
   "cell_type": "markdown",
   "id": "488922d6",
   "metadata": {},
   "source": [
    "# EDA of initial data download"
   ]
  },
  {
   "cell_type": "code",
   "execution_count": 1,
   "id": "bb10eab2",
   "metadata": {},
   "outputs": [],
   "source": [
    "from datetime import date\n",
    "import gzip\n",
    "import json\n",
    "from pathlib import Path\n",
    "\n",
    "import altair as alt\n",
    "import arrow\n",
    "import pandas as pd"
   ]
  },
  {
   "cell_type": "code",
   "execution_count": 2,
   "id": "0937c535",
   "metadata": {},
   "outputs": [],
   "source": [
    "input_dir = Path(\"../data/raw/20210527_initial_data_children_biography/\")"
   ]
  },
  {
   "cell_type": "code",
   "execution_count": 3,
   "id": "74a28bb9",
   "metadata": {},
   "outputs": [],
   "source": [
    "genres = [\"children\", \"history_biography\"]"
   ]
  },
  {
   "cell_type": "markdown",
   "id": "fa366f0d",
   "metadata": {},
   "source": [
    "## Plot ratings distribution by genre to define \"good\" and \"bad\" ratings"
   ]
  },
  {
   "cell_type": "code",
   "execution_count": 4,
   "id": "9fa06db9",
   "metadata": {},
   "outputs": [],
   "source": [
    "def load_ratings(genres):\n",
    "    for genre in genres:\n",
    "        input_file = input_dir / f\"goodreads_interactions_{genre}.json.gz\"\n",
    "        with gzip.open(input_file, \"rt\") as fin:\n",
    "            for i, line in enumerate(fin):\n",
    "#                 if i > 999:\n",
    "#                     break\n",
    "                j = json.loads(line)\n",
    "                if j[\"rating\"] > 0:\n",
    "                    d = arrow.get(j[\"date_updated\"], \"ddd MMM DD HH:mm:ss Z YYYY\").date()\n",
    "                    first_day_month = date(year=d.year, month=d.month, day=1)\n",
    "                    yield j[\"user_id\"], j[\"book_id\"], first_day_month, genre, j[\"rating\"]"
   ]
  },
  {
   "cell_type": "code",
   "execution_count": 5,
   "id": "998b5c31",
   "metadata": {},
   "outputs": [],
   "source": [
    "rating_df = pd.DataFrame(load_ratings(genres), columns=[\"user_id\", \"book_id\", \"month\", \"genre\", \"rating\"])\n",
    "rating_df[\"month\"] = pd.to_datetime(rating_df[\"month\"])\n",
    "rating_df = rating_df.convert_dtypes()"
   ]
  },
  {
   "cell_type": "code",
   "execution_count": 6,
   "id": "107be159-0486-43df-ba66-8e174fd4d06f",
   "metadata": {},
   "outputs": [],
   "source": [
    "ratings_per_genre = rating_df.groupby([\"genre\", \"rating\"]).size()\n",
    "ratings_per_genre = ratings_per_genre.reset_index()\n",
    "ratings_per_genre.columns = [\"Genre\", \"Rating\", \"Count\"]"
   ]
  },
  {
   "cell_type": "code",
   "execution_count": 7,
   "id": "29f8a9fd-7324-4bae-bc74-e671ee8d9d8d",
   "metadata": {},
   "outputs": [
    {
     "data": {
      "text/html": [
       "\n",
       "<div id=\"altair-viz-5af647ef041047748cf3210630990084\"></div>\n",
       "<script type=\"text/javascript\">\n",
       "  (function(spec, embedOpt){\n",
       "    let outputDiv = document.currentScript.previousElementSibling;\n",
       "    if (outputDiv.id !== \"altair-viz-5af647ef041047748cf3210630990084\") {\n",
       "      outputDiv = document.getElementById(\"altair-viz-5af647ef041047748cf3210630990084\");\n",
       "    }\n",
       "    const paths = {\n",
       "      \"vega\": \"https://cdn.jsdelivr.net/npm//vega@5?noext\",\n",
       "      \"vega-lib\": \"https://cdn.jsdelivr.net/npm//vega-lib?noext\",\n",
       "      \"vega-lite\": \"https://cdn.jsdelivr.net/npm//vega-lite@4.8.1?noext\",\n",
       "      \"vega-embed\": \"https://cdn.jsdelivr.net/npm//vega-embed@6?noext\",\n",
       "    };\n",
       "\n",
       "    function loadScript(lib) {\n",
       "      return new Promise(function(resolve, reject) {\n",
       "        var s = document.createElement('script');\n",
       "        s.src = paths[lib];\n",
       "        s.async = true;\n",
       "        s.onload = () => resolve(paths[lib]);\n",
       "        s.onerror = () => reject(`Error loading script: ${paths[lib]}`);\n",
       "        document.getElementsByTagName(\"head\")[0].appendChild(s);\n",
       "      });\n",
       "    }\n",
       "\n",
       "    function showError(err) {\n",
       "      outputDiv.innerHTML = `<div class=\"error\" style=\"color:red;\">${err}</div>`;\n",
       "      throw err;\n",
       "    }\n",
       "\n",
       "    function displayChart(vegaEmbed) {\n",
       "      vegaEmbed(outputDiv, spec, embedOpt)\n",
       "        .catch(err => showError(`Javascript Error: ${err.message}<br>This usually means there's a typo in your chart specification. See the javascript console for the full traceback.`));\n",
       "    }\n",
       "\n",
       "    if(typeof define === \"function\" && define.amd) {\n",
       "      requirejs.config({paths});\n",
       "      require([\"vega-embed\"], displayChart, err => showError(`Error loading script: ${err.message}`));\n",
       "    } else if (typeof vegaEmbed === \"function\") {\n",
       "      displayChart(vegaEmbed);\n",
       "    } else {\n",
       "      loadScript(\"vega\")\n",
       "        .then(() => loadScript(\"vega-lite\"))\n",
       "        .then(() => loadScript(\"vega-embed\"))\n",
       "        .catch(showError)\n",
       "        .then(() => displayChart(vegaEmbed));\n",
       "    }\n",
       "  })({\"config\": {\"view\": {\"continuousWidth\": 400, \"continuousHeight\": 300}}, \"data\": {\"name\": \"data-c6bf079e8e24720ad7ccc885a429b161\"}, \"mark\": \"bar\", \"encoding\": {\"column\": {\"type\": \"nominal\", \"field\": \"Genre\"}, \"x\": {\"type\": \"ordinal\", \"field\": \"Rating\"}, \"y\": {\"type\": \"quantitative\", \"field\": \"Count\"}}, \"$schema\": \"https://vega.github.io/schema/vega-lite/v4.8.1.json\", \"datasets\": {\"data-c6bf079e8e24720ad7ccc885a429b161\": [{\"Genre\": \"children\", \"Rating\": 1, \"Count\": 70708}, {\"Genre\": \"children\", \"Rating\": 2, \"Count\": 300240}, {\"Genre\": \"children\", \"Rating\": 3, \"Count\": 1440343}, {\"Genre\": \"children\", \"Rating\": 4, \"Count\": 2189243}, {\"Genre\": \"children\", \"Rating\": 5, \"Count\": 2383936}, {\"Genre\": \"history_biography\", \"Rating\": 1, \"Count\": 210254}, {\"Genre\": \"history_biography\", \"Rating\": 2, \"Count\": 678526}, {\"Genre\": \"history_biography\", \"Rating\": 3, \"Count\": 2733308}, {\"Genre\": \"history_biography\", \"Rating\": 4, \"Count\": 4635859}, {\"Genre\": \"history_biography\", \"Rating\": 5, \"Count\": 4121948}]}}, {\"mode\": \"vega-lite\"});\n",
       "</script>"
      ],
      "text/plain": [
       "alt.Chart(...)"
      ]
     },
     "execution_count": 7,
     "metadata": {},
     "output_type": "execute_result"
    }
   ],
   "source": [
    "alt.Chart(ratings_per_genre).mark_bar().encode(\n",
    "    x=\"Rating:O\",\n",
    "    y=\"Count:Q\",\n",
    "    column=\"Genre:N\"\n",
    ")"
   ]
  },
  {
   "cell_type": "markdown",
   "id": "5e3c8594",
   "metadata": {},
   "source": [
    "### Decision\n",
    "\n",
    "Labeling ratings $\\leq 3$ as negative and $> 3$ as positive might be a first thing to try.\n",
    "\n",
    "Based on my own experience, there is also a self-justification aspect to be aware of when interpreting ratings: when I spend the time reading a whole book, rating it less then 3 becomes unlikely even though I did not really like the book because rating it $< 3$ would mean admitting that I wasted a lot of time reading the book in the first place."
   ]
  },
  {
   "cell_type": "markdown",
   "id": "ce6202f3",
   "metadata": {},
   "source": [
    "## Plot ratings over time to define temporal train/dev/test splits"
   ]
  },
  {
   "cell_type": "code",
   "execution_count": 8,
   "id": "98617655",
   "metadata": {},
   "outputs": [],
   "source": [
    "nrating_per_genre_month = rating_df.groupby([\"genre\", \"month\"]).size()\n",
    "nrating_per_genre_month = nrating_per_genre_month.reset_index()\n",
    "nrating_per_genre_month.columns = [\"Genre\", \"Month\", \"N_ratings\"]"
   ]
  },
  {
   "cell_type": "code",
   "execution_count": 9,
   "id": "66fc0bbe-fc9f-4241-8f60-405a9eacdade",
   "metadata": {},
   "outputs": [],
   "source": [
    "nrating_per_genre_month.sort_values(\"Month\", inplace=True)"
   ]
  },
  {
   "cell_type": "code",
   "execution_count": 10,
   "id": "40de64b6-577c-4042-a935-cdc3f096ce3c",
   "metadata": {},
   "outputs": [
    {
     "name": "stdout",
     "output_type": "stream",
     "text": [
      "                 Genre      Month  N_ratings\n",
      "0             children 2006-08-01          2\n",
      "134  history_biography 2006-09-01          2\n",
      "135  history_biography 2006-10-01          1\n",
      "136  history_biography 2006-11-01          1\n",
      "1             children 2006-11-01          4\n",
      "                 Genre      Month  N_ratings\n",
      "266  history_biography 2017-09-01     141815\n",
      "267  history_biography 2017-10-01     118018\n",
      "132           children 2017-10-01      50612\n",
      "133           children 2017-11-01        889\n",
      "268  history_biography 2017-11-01       2346\n"
     ]
    }
   ],
   "source": [
    "print(nrating_per_genre_month.head())\n",
    "print(nrating_per_genre_month.tail())"
   ]
  },
  {
   "cell_type": "code",
   "execution_count": 11,
   "id": "210a0a88",
   "metadata": {},
   "outputs": [
    {
     "data": {
      "text/html": [
       "\n",
       "<div id=\"altair-viz-722d946b379540f88474dd26faaf8c41\"></div>\n",
       "<script type=\"text/javascript\">\n",
       "  (function(spec, embedOpt){\n",
       "    let outputDiv = document.currentScript.previousElementSibling;\n",
       "    if (outputDiv.id !== \"altair-viz-722d946b379540f88474dd26faaf8c41\") {\n",
       "      outputDiv = document.getElementById(\"altair-viz-722d946b379540f88474dd26faaf8c41\");\n",
       "    }\n",
       "    const paths = {\n",
       "      \"vega\": \"https://cdn.jsdelivr.net/npm//vega@5?noext\",\n",
       "      \"vega-lib\": \"https://cdn.jsdelivr.net/npm//vega-lib?noext\",\n",
       "      \"vega-lite\": \"https://cdn.jsdelivr.net/npm//vega-lite@4.8.1?noext\",\n",
       "      \"vega-embed\": \"https://cdn.jsdelivr.net/npm//vega-embed@6?noext\",\n",
       "    };\n",
       "\n",
       "    function loadScript(lib) {\n",
       "      return new Promise(function(resolve, reject) {\n",
       "        var s = document.createElement('script');\n",
       "        s.src = paths[lib];\n",
       "        s.async = true;\n",
       "        s.onload = () => resolve(paths[lib]);\n",
       "        s.onerror = () => reject(`Error loading script: ${paths[lib]}`);\n",
       "        document.getElementsByTagName(\"head\")[0].appendChild(s);\n",
       "      });\n",
       "    }\n",
       "\n",
       "    function showError(err) {\n",
       "      outputDiv.innerHTML = `<div class=\"error\" style=\"color:red;\">${err}</div>`;\n",
       "      throw err;\n",
       "    }\n",
       "\n",
       "    function displayChart(vegaEmbed) {\n",
       "      vegaEmbed(outputDiv, spec, embedOpt)\n",
       "        .catch(err => showError(`Javascript Error: ${err.message}<br>This usually means there's a typo in your chart specification. See the javascript console for the full traceback.`));\n",
       "    }\n",
       "\n",
       "    if(typeof define === \"function\" && define.amd) {\n",
       "      requirejs.config({paths});\n",
       "      require([\"vega-embed\"], displayChart, err => showError(`Error loading script: ${err.message}`));\n",
       "    } else if (typeof vegaEmbed === \"function\") {\n",
       "      displayChart(vegaEmbed);\n",
       "    } else {\n",
       "      loadScript(\"vega\")\n",
       "        .then(() => loadScript(\"vega-lite\"))\n",
       "        .then(() => loadScript(\"vega-embed\"))\n",
       "        .catch(showError)\n",
       "        .then(() => displayChart(vegaEmbed));\n",
       "    }\n",
       "  })({\"config\": {\"view\": {\"continuousWidth\": 400, \"continuousHeight\": 300}}, \"data\": {\"name\": \"data-2699c3a56fe906123b8e720f15e4b193\"}, \"mark\": \"bar\", \"encoding\": {\"column\": {\"type\": \"nominal\", \"field\": \"Genre\"}, \"x\": {\"type\": \"temporal\", \"field\": \"Month\"}, \"y\": {\"type\": \"quantitative\", \"field\": \"N_ratings\"}}, \"$schema\": \"https://vega.github.io/schema/vega-lite/v4.8.1.json\", \"datasets\": {\"data-2699c3a56fe906123b8e720f15e4b193\": [{\"Genre\": \"children\", \"Month\": \"2006-08-01T00:00:00\", \"N_ratings\": 2}, {\"Genre\": \"history_biography\", \"Month\": \"2006-09-01T00:00:00\", \"N_ratings\": 2}, {\"Genre\": \"history_biography\", \"Month\": \"2006-10-01T00:00:00\", \"N_ratings\": 1}, {\"Genre\": \"history_biography\", \"Month\": \"2006-11-01T00:00:00\", \"N_ratings\": 1}, {\"Genre\": \"children\", \"Month\": \"2006-11-01T00:00:00\", \"N_ratings\": 4}, {\"Genre\": \"history_biography\", \"Month\": \"2006-12-01T00:00:00\", \"N_ratings\": 41}, {\"Genre\": \"children\", \"Month\": \"2006-12-01T00:00:00\", \"N_ratings\": 12}, {\"Genre\": \"children\", \"Month\": \"2007-01-01T00:00:00\", \"N_ratings\": 9}, {\"Genre\": \"history_biography\", \"Month\": \"2007-01-01T00:00:00\", \"N_ratings\": 20}, {\"Genre\": \"history_biography\", \"Month\": \"2007-02-01T00:00:00\", \"N_ratings\": 864}, {\"Genre\": \"children\", \"Month\": \"2007-02-01T00:00:00\", \"N_ratings\": 368}, {\"Genre\": \"history_biography\", \"Month\": \"2007-03-01T00:00:00\", \"N_ratings\": 2662}, {\"Genre\": \"children\", \"Month\": \"2007-03-01T00:00:00\", \"N_ratings\": 1529}, {\"Genre\": \"history_biography\", \"Month\": \"2007-04-01T00:00:00\", \"N_ratings\": 3234}, {\"Genre\": \"children\", \"Month\": \"2007-04-01T00:00:00\", \"N_ratings\": 1999}, {\"Genre\": \"history_biography\", \"Month\": \"2007-05-01T00:00:00\", \"N_ratings\": 5693}, {\"Genre\": \"children\", \"Month\": \"2007-05-01T00:00:00\", \"N_ratings\": 3010}, {\"Genre\": \"children\", \"Month\": \"2007-06-01T00:00:00\", \"N_ratings\": 5704}, {\"Genre\": \"history_biography\", \"Month\": \"2007-06-01T00:00:00\", \"N_ratings\": 8631}, {\"Genre\": \"children\", \"Month\": \"2007-07-01T00:00:00\", \"N_ratings\": 8824}, {\"Genre\": \"history_biography\", \"Month\": \"2007-07-01T00:00:00\", \"N_ratings\": 13403}, {\"Genre\": \"history_biography\", \"Month\": \"2007-08-01T00:00:00\", \"N_ratings\": 15728}, {\"Genre\": \"children\", \"Month\": \"2007-08-01T00:00:00\", \"N_ratings\": 10083}, {\"Genre\": \"history_biography\", \"Month\": \"2007-09-01T00:00:00\", \"N_ratings\": 16630}, {\"Genre\": \"children\", \"Month\": \"2007-09-01T00:00:00\", \"N_ratings\": 10988}, {\"Genre\": \"history_biography\", \"Month\": \"2007-10-01T00:00:00\", \"N_ratings\": 13949}, {\"Genre\": \"children\", \"Month\": \"2007-10-01T00:00:00\", \"N_ratings\": 10313}, {\"Genre\": \"history_biography\", \"Month\": \"2007-11-01T00:00:00\", \"N_ratings\": 13020}, {\"Genre\": \"children\", \"Month\": \"2007-11-01T00:00:00\", \"N_ratings\": 8074}, {\"Genre\": \"history_biography\", \"Month\": \"2007-12-01T00:00:00\", \"N_ratings\": 15127}, {\"Genre\": \"children\", \"Month\": \"2007-12-01T00:00:00\", \"N_ratings\": 10192}, {\"Genre\": \"history_biography\", \"Month\": \"2008-01-01T00:00:00\", \"N_ratings\": 25700}, {\"Genre\": \"children\", \"Month\": \"2008-01-01T00:00:00\", \"N_ratings\": 17635}, {\"Genre\": \"history_biography\", \"Month\": \"2008-02-01T00:00:00\", \"N_ratings\": 25346}, {\"Genre\": \"children\", \"Month\": \"2008-02-01T00:00:00\", \"N_ratings\": 15966}, {\"Genre\": \"history_biography\", \"Month\": \"2008-03-01T00:00:00\", \"N_ratings\": 23205}, {\"Genre\": \"children\", \"Month\": \"2008-03-01T00:00:00\", \"N_ratings\": 16018}, {\"Genre\": \"children\", \"Month\": \"2008-04-01T00:00:00\", \"N_ratings\": 12980}, {\"Genre\": \"history_biography\", \"Month\": \"2008-04-01T00:00:00\", \"N_ratings\": 20079}, {\"Genre\": \"children\", \"Month\": \"2008-05-01T00:00:00\", \"N_ratings\": 12926}, {\"Genre\": \"history_biography\", \"Month\": \"2008-05-01T00:00:00\", \"N_ratings\": 19754}, {\"Genre\": \"history_biography\", \"Month\": \"2008-06-01T00:00:00\", \"N_ratings\": 26340}, {\"Genre\": \"children\", \"Month\": \"2008-06-01T00:00:00\", \"N_ratings\": 16410}, {\"Genre\": \"history_biography\", \"Month\": \"2008-07-01T00:00:00\", \"N_ratings\": 28549}, {\"Genre\": \"children\", \"Month\": \"2008-07-01T00:00:00\", \"N_ratings\": 18208}, {\"Genre\": \"children\", \"Month\": \"2008-08-01T00:00:00\", \"N_ratings\": 15967}, {\"Genre\": \"history_biography\", \"Month\": \"2008-08-01T00:00:00\", \"N_ratings\": 25894}, {\"Genre\": \"children\", \"Month\": \"2008-09-01T00:00:00\", \"N_ratings\": 14958}, {\"Genre\": \"history_biography\", \"Month\": \"2008-09-01T00:00:00\", \"N_ratings\": 23314}, {\"Genre\": \"history_biography\", \"Month\": \"2008-10-01T00:00:00\", \"N_ratings\": 22655}, {\"Genre\": \"children\", \"Month\": \"2008-10-01T00:00:00\", \"N_ratings\": 15709}, {\"Genre\": \"history_biography\", \"Month\": \"2008-11-01T00:00:00\", \"N_ratings\": 22501}, {\"Genre\": \"children\", \"Month\": \"2008-11-01T00:00:00\", \"N_ratings\": 13177}, {\"Genre\": \"history_biography\", \"Month\": \"2008-12-01T00:00:00\", \"N_ratings\": 22625}, {\"Genre\": \"children\", \"Month\": \"2008-12-01T00:00:00\", \"N_ratings\": 14294}, {\"Genre\": \"history_biography\", \"Month\": \"2009-01-01T00:00:00\", \"N_ratings\": 30273}, {\"Genre\": \"children\", \"Month\": \"2009-01-01T00:00:00\", \"N_ratings\": 18952}, {\"Genre\": \"history_biography\", \"Month\": \"2009-02-01T00:00:00\", \"N_ratings\": 25284}, {\"Genre\": \"children\", \"Month\": \"2009-02-01T00:00:00\", \"N_ratings\": 15532}, {\"Genre\": \"children\", \"Month\": \"2009-03-01T00:00:00\", \"N_ratings\": 19684}, {\"Genre\": \"history_biography\", \"Month\": \"2009-03-01T00:00:00\", \"N_ratings\": 30119}, {\"Genre\": \"children\", \"Month\": \"2009-04-01T00:00:00\", \"N_ratings\": 19007}, {\"Genre\": \"history_biography\", \"Month\": \"2009-04-01T00:00:00\", \"N_ratings\": 30707}, {\"Genre\": \"history_biography\", \"Month\": \"2009-05-01T00:00:00\", \"N_ratings\": 32532}, {\"Genre\": \"children\", \"Month\": \"2009-05-01T00:00:00\", \"N_ratings\": 18880}, {\"Genre\": \"children\", \"Month\": \"2009-06-01T00:00:00\", \"N_ratings\": 20271}, {\"Genre\": \"history_biography\", \"Month\": \"2009-06-01T00:00:00\", \"N_ratings\": 33753}, {\"Genre\": \"children\", \"Month\": \"2009-07-01T00:00:00\", \"N_ratings\": 19996}, {\"Genre\": \"history_biography\", \"Month\": \"2009-07-01T00:00:00\", \"N_ratings\": 34332}, {\"Genre\": \"children\", \"Month\": \"2009-08-01T00:00:00\", \"N_ratings\": 21545}, {\"Genre\": \"history_biography\", \"Month\": \"2009-08-01T00:00:00\", \"N_ratings\": 35473}, {\"Genre\": \"children\", \"Month\": \"2009-09-01T00:00:00\", \"N_ratings\": 18109}, {\"Genre\": \"history_biography\", \"Month\": \"2009-09-01T00:00:00\", \"N_ratings\": 30716}, {\"Genre\": \"history_biography\", \"Month\": \"2009-10-01T00:00:00\", \"N_ratings\": 30159}, {\"Genre\": \"children\", \"Month\": \"2009-10-01T00:00:00\", \"N_ratings\": 18139}, {\"Genre\": \"history_biography\", \"Month\": \"2009-11-01T00:00:00\", \"N_ratings\": 26968}, {\"Genre\": \"children\", \"Month\": \"2009-11-01T00:00:00\", \"N_ratings\": 17523}, {\"Genre\": \"children\", \"Month\": \"2009-12-01T00:00:00\", \"N_ratings\": 19125}, {\"Genre\": \"history_biography\", \"Month\": \"2009-12-01T00:00:00\", \"N_ratings\": 34625}, {\"Genre\": \"children\", \"Month\": \"2010-01-01T00:00:00\", \"N_ratings\": 25824}, {\"Genre\": \"history_biography\", \"Month\": \"2010-01-01T00:00:00\", \"N_ratings\": 46241}, {\"Genre\": \"history_biography\", \"Month\": \"2010-02-01T00:00:00\", \"N_ratings\": 40114}, {\"Genre\": \"children\", \"Month\": \"2010-02-01T00:00:00\", \"N_ratings\": 22382}, {\"Genre\": \"history_biography\", \"Month\": \"2010-03-01T00:00:00\", \"N_ratings\": 42882}, {\"Genre\": \"children\", \"Month\": \"2010-03-01T00:00:00\", \"N_ratings\": 26164}, {\"Genre\": \"children\", \"Month\": \"2010-04-01T00:00:00\", \"N_ratings\": 22807}, {\"Genre\": \"history_biography\", \"Month\": \"2010-04-01T00:00:00\", \"N_ratings\": 37987}, {\"Genre\": \"history_biography\", \"Month\": \"2010-05-01T00:00:00\", \"N_ratings\": 42656}, {\"Genre\": \"children\", \"Month\": \"2010-05-01T00:00:00\", \"N_ratings\": 22347}, {\"Genre\": \"history_biography\", \"Month\": \"2010-06-01T00:00:00\", \"N_ratings\": 41765}, {\"Genre\": \"children\", \"Month\": \"2010-06-01T00:00:00\", \"N_ratings\": 22488}, {\"Genre\": \"history_biography\", \"Month\": \"2010-07-01T00:00:00\", \"N_ratings\": 46782}, {\"Genre\": \"children\", \"Month\": \"2010-07-01T00:00:00\", \"N_ratings\": 25825}, {\"Genre\": \"children\", \"Month\": \"2010-08-01T00:00:00\", \"N_ratings\": 21281}, {\"Genre\": \"history_biography\", \"Month\": \"2010-08-01T00:00:00\", \"N_ratings\": 43662}, {\"Genre\": \"children\", \"Month\": \"2010-09-01T00:00:00\", \"N_ratings\": 21710}, {\"Genre\": \"history_biography\", \"Month\": \"2010-09-01T00:00:00\", \"N_ratings\": 40222}, {\"Genre\": \"history_biography\", \"Month\": \"2010-10-01T00:00:00\", \"N_ratings\": 38293}, {\"Genre\": \"children\", \"Month\": \"2010-10-01T00:00:00\", \"N_ratings\": 20685}, {\"Genre\": \"children\", \"Month\": \"2010-11-01T00:00:00\", \"N_ratings\": 16728}, {\"Genre\": \"history_biography\", \"Month\": \"2010-11-01T00:00:00\", \"N_ratings\": 34884}, {\"Genre\": \"history_biography\", \"Month\": \"2010-12-01T00:00:00\", \"N_ratings\": 37372}, {\"Genre\": \"children\", \"Month\": \"2010-12-01T00:00:00\", \"N_ratings\": 18395}, {\"Genre\": \"history_biography\", \"Month\": \"2011-01-01T00:00:00\", \"N_ratings\": 64249}, {\"Genre\": \"children\", \"Month\": \"2011-01-01T00:00:00\", \"N_ratings\": 30630}, {\"Genre\": \"children\", \"Month\": \"2011-02-01T00:00:00\", \"N_ratings\": 28214}, {\"Genre\": \"history_biography\", \"Month\": \"2011-02-01T00:00:00\", \"N_ratings\": 56510}, {\"Genre\": \"history_biography\", \"Month\": \"2011-03-01T00:00:00\", \"N_ratings\": 63479}, {\"Genre\": \"children\", \"Month\": \"2011-03-01T00:00:00\", \"N_ratings\": 31550}, {\"Genre\": \"history_biography\", \"Month\": \"2011-04-01T00:00:00\", \"N_ratings\": 59920}, {\"Genre\": \"children\", \"Month\": \"2011-04-01T00:00:00\", \"N_ratings\": 32539}, {\"Genre\": \"children\", \"Month\": \"2011-05-01T00:00:00\", \"N_ratings\": 31938}, {\"Genre\": \"history_biography\", \"Month\": \"2011-05-01T00:00:00\", \"N_ratings\": 66415}, {\"Genre\": \"history_biography\", \"Month\": \"2011-06-01T00:00:00\", \"N_ratings\": 69260}, {\"Genre\": \"children\", \"Month\": \"2011-06-01T00:00:00\", \"N_ratings\": 33850}, {\"Genre\": \"history_biography\", \"Month\": \"2011-07-01T00:00:00\", \"N_ratings\": 86780}, {\"Genre\": \"children\", \"Month\": \"2011-07-01T00:00:00\", \"N_ratings\": 40193}, {\"Genre\": \"history_biography\", \"Month\": \"2011-08-01T00:00:00\", \"N_ratings\": 91567}, {\"Genre\": \"children\", \"Month\": \"2011-08-01T00:00:00\", \"N_ratings\": 43505}, {\"Genre\": \"children\", \"Month\": \"2011-09-01T00:00:00\", \"N_ratings\": 65397}, {\"Genre\": \"history_biography\", \"Month\": \"2011-09-01T00:00:00\", \"N_ratings\": 111246}, {\"Genre\": \"history_biography\", \"Month\": \"2011-10-01T00:00:00\", \"N_ratings\": 94227}, {\"Genre\": \"children\", \"Month\": \"2011-10-01T00:00:00\", \"N_ratings\": 60596}, {\"Genre\": \"children\", \"Month\": \"2011-11-01T00:00:00\", \"N_ratings\": 59506}, {\"Genre\": \"history_biography\", \"Month\": \"2011-11-01T00:00:00\", \"N_ratings\": 94632}, {\"Genre\": \"children\", \"Month\": \"2011-12-01T00:00:00\", \"N_ratings\": 62926}, {\"Genre\": \"history_biography\", \"Month\": \"2011-12-01T00:00:00\", \"N_ratings\": 96833}, {\"Genre\": \"history_biography\", \"Month\": \"2012-01-01T00:00:00\", \"N_ratings\": 129988}, {\"Genre\": \"children\", \"Month\": \"2012-01-01T00:00:00\", \"N_ratings\": 82679}, {\"Genre\": \"children\", \"Month\": \"2012-02-01T00:00:00\", \"N_ratings\": 71685}, {\"Genre\": \"history_biography\", \"Month\": \"2012-02-01T00:00:00\", \"N_ratings\": 116377}, {\"Genre\": \"history_biography\", \"Month\": \"2012-03-01T00:00:00\", \"N_ratings\": 129955}, {\"Genre\": \"children\", \"Month\": \"2012-03-01T00:00:00\", \"N_ratings\": 80242}, {\"Genre\": \"history_biography\", \"Month\": \"2012-04-01T00:00:00\", \"N_ratings\": 125119}, {\"Genre\": \"children\", \"Month\": \"2012-04-01T00:00:00\", \"N_ratings\": 79043}, {\"Genre\": \"history_biography\", \"Month\": \"2012-05-01T00:00:00\", \"N_ratings\": 129241}, {\"Genre\": \"children\", \"Month\": \"2012-05-01T00:00:00\", \"N_ratings\": 83581}, {\"Genre\": \"history_biography\", \"Month\": \"2012-06-01T00:00:00\", \"N_ratings\": 130805}, {\"Genre\": \"children\", \"Month\": \"2012-06-01T00:00:00\", \"N_ratings\": 76144}, {\"Genre\": \"children\", \"Month\": \"2012-07-01T00:00:00\", \"N_ratings\": 91954}, {\"Genre\": \"history_biography\", \"Month\": \"2012-07-01T00:00:00\", \"N_ratings\": 159066}, {\"Genre\": \"history_biography\", \"Month\": \"2012-08-01T00:00:00\", \"N_ratings\": 154700}, {\"Genre\": \"children\", \"Month\": \"2012-08-01T00:00:00\", \"N_ratings\": 85860}, {\"Genre\": \"children\", \"Month\": \"2012-09-01T00:00:00\", \"N_ratings\": 74472}, {\"Genre\": \"history_biography\", \"Month\": \"2012-09-01T00:00:00\", \"N_ratings\": 135788}, {\"Genre\": \"children\", \"Month\": \"2012-10-01T00:00:00\", \"N_ratings\": 73196}, {\"Genre\": \"history_biography\", \"Month\": \"2012-10-01T00:00:00\", \"N_ratings\": 126531}, {\"Genre\": \"history_biography\", \"Month\": \"2012-11-01T00:00:00\", \"N_ratings\": 122872}, {\"Genre\": \"children\", \"Month\": \"2012-11-01T00:00:00\", \"N_ratings\": 72352}, {\"Genre\": \"history_biography\", \"Month\": \"2012-12-01T00:00:00\", \"N_ratings\": 139198}, {\"Genre\": \"children\", \"Month\": \"2012-12-01T00:00:00\", \"N_ratings\": 83757}, {\"Genre\": \"children\", \"Month\": \"2013-01-01T00:00:00\", \"N_ratings\": 109665}, {\"Genre\": \"history_biography\", \"Month\": \"2013-01-01T00:00:00\", \"N_ratings\": 186140}, {\"Genre\": \"history_biography\", \"Month\": \"2013-02-01T00:00:00\", \"N_ratings\": 146554}, {\"Genre\": \"children\", \"Month\": \"2013-02-01T00:00:00\", \"N_ratings\": 83165}, {\"Genre\": \"history_biography\", \"Month\": \"2013-03-01T00:00:00\", \"N_ratings\": 159720}, {\"Genre\": \"children\", \"Month\": \"2013-03-01T00:00:00\", \"N_ratings\": 90437}, {\"Genre\": \"children\", \"Month\": \"2013-04-01T00:00:00\", \"N_ratings\": 76458}, {\"Genre\": \"history_biography\", \"Month\": \"2013-04-01T00:00:00\", \"N_ratings\": 148042}, {\"Genre\": \"history_biography\", \"Month\": \"2013-05-01T00:00:00\", \"N_ratings\": 138491}, {\"Genre\": \"children\", \"Month\": \"2013-05-01T00:00:00\", \"N_ratings\": 74303}, {\"Genre\": \"history_biography\", \"Month\": \"2013-06-01T00:00:00\", \"N_ratings\": 139568}, {\"Genre\": \"children\", \"Month\": \"2013-06-01T00:00:00\", \"N_ratings\": 76826}, {\"Genre\": \"children\", \"Month\": \"2013-07-01T00:00:00\", \"N_ratings\": 83091}, {\"Genre\": \"history_biography\", \"Month\": \"2013-07-01T00:00:00\", \"N_ratings\": 159278}, {\"Genre\": \"history_biography\", \"Month\": \"2013-08-01T00:00:00\", \"N_ratings\": 149641}, {\"Genre\": \"children\", \"Month\": \"2013-08-01T00:00:00\", \"N_ratings\": 77442}, {\"Genre\": \"history_biography\", \"Month\": \"2013-09-01T00:00:00\", \"N_ratings\": 137076}, {\"Genre\": \"children\", \"Month\": \"2013-09-01T00:00:00\", \"N_ratings\": 70092}, {\"Genre\": \"history_biography\", \"Month\": \"2013-10-01T00:00:00\", \"N_ratings\": 118331}, {\"Genre\": \"children\", \"Month\": \"2013-10-01T00:00:00\", \"N_ratings\": 59879}, {\"Genre\": \"history_biography\", \"Month\": \"2013-11-01T00:00:00\", \"N_ratings\": 116857}, {\"Genre\": \"children\", \"Month\": \"2013-11-01T00:00:00\", \"N_ratings\": 63233}, {\"Genre\": \"history_biography\", \"Month\": \"2013-12-01T00:00:00\", \"N_ratings\": 140966}, {\"Genre\": \"children\", \"Month\": \"2013-12-01T00:00:00\", \"N_ratings\": 75842}, {\"Genre\": \"history_biography\", \"Month\": \"2014-01-01T00:00:00\", \"N_ratings\": 173619}, {\"Genre\": \"children\", \"Month\": \"2014-01-01T00:00:00\", \"N_ratings\": 94511}, {\"Genre\": \"history_biography\", \"Month\": \"2014-02-01T00:00:00\", \"N_ratings\": 134515}, {\"Genre\": \"children\", \"Month\": \"2014-02-01T00:00:00\", \"N_ratings\": 75115}, {\"Genre\": \"children\", \"Month\": \"2014-03-01T00:00:00\", \"N_ratings\": 84126}, {\"Genre\": \"history_biography\", \"Month\": \"2014-03-01T00:00:00\", \"N_ratings\": 139179}, {\"Genre\": \"history_biography\", \"Month\": \"2014-04-01T00:00:00\", \"N_ratings\": 129128}, {\"Genre\": \"children\", \"Month\": \"2014-04-01T00:00:00\", \"N_ratings\": 74221}, {\"Genre\": \"children\", \"Month\": \"2014-05-01T00:00:00\", \"N_ratings\": 74228}, {\"Genre\": \"history_biography\", \"Month\": \"2014-05-01T00:00:00\", \"N_ratings\": 142524}, {\"Genre\": \"history_biography\", \"Month\": \"2014-06-01T00:00:00\", \"N_ratings\": 133162}, {\"Genre\": \"children\", \"Month\": \"2014-06-01T00:00:00\", \"N_ratings\": 72934}, {\"Genre\": \"history_biography\", \"Month\": \"2014-07-01T00:00:00\", \"N_ratings\": 152280}, {\"Genre\": \"children\", \"Month\": \"2014-07-01T00:00:00\", \"N_ratings\": 84516}, {\"Genre\": \"history_biography\", \"Month\": \"2014-08-01T00:00:00\", \"N_ratings\": 148714}, {\"Genre\": \"children\", \"Month\": \"2014-08-01T00:00:00\", \"N_ratings\": 78941}, {\"Genre\": \"history_biography\", \"Month\": \"2014-09-01T00:00:00\", \"N_ratings\": 133917}, {\"Genre\": \"children\", \"Month\": \"2014-09-01T00:00:00\", \"N_ratings\": 66893}, {\"Genre\": \"history_biography\", \"Month\": \"2014-10-01T00:00:00\", \"N_ratings\": 130730}, {\"Genre\": \"children\", \"Month\": \"2014-10-01T00:00:00\", \"N_ratings\": 64725}, {\"Genre\": \"history_biography\", \"Month\": \"2014-11-01T00:00:00\", \"N_ratings\": 128924}, {\"Genre\": \"children\", \"Month\": \"2014-11-01T00:00:00\", \"N_ratings\": 63079}, {\"Genre\": \"history_biography\", \"Month\": \"2014-12-01T00:00:00\", \"N_ratings\": 143260}, {\"Genre\": \"children\", \"Month\": \"2014-12-01T00:00:00\", \"N_ratings\": 73317}, {\"Genre\": \"children\", \"Month\": \"2015-01-01T00:00:00\", \"N_ratings\": 90438}, {\"Genre\": \"history_biography\", \"Month\": \"2015-01-01T00:00:00\", \"N_ratings\": 187512}, {\"Genre\": \"children\", \"Month\": \"2015-02-01T00:00:00\", \"N_ratings\": 65127}, {\"Genre\": \"history_biography\", \"Month\": \"2015-02-01T00:00:00\", \"N_ratings\": 138517}, {\"Genre\": \"children\", \"Month\": \"2015-03-01T00:00:00\", \"N_ratings\": 67377}, {\"Genre\": \"history_biography\", \"Month\": \"2015-03-01T00:00:00\", \"N_ratings\": 151906}, {\"Genre\": \"children\", \"Month\": \"2015-04-01T00:00:00\", \"N_ratings\": 62343}, {\"Genre\": \"history_biography\", \"Month\": \"2015-04-01T00:00:00\", \"N_ratings\": 132906}, {\"Genre\": \"children\", \"Month\": \"2015-05-01T00:00:00\", \"N_ratings\": 60685}, {\"Genre\": \"history_biography\", \"Month\": \"2015-05-01T00:00:00\", \"N_ratings\": 134629}, {\"Genre\": \"history_biography\", \"Month\": \"2015-06-01T00:00:00\", \"N_ratings\": 135408}, {\"Genre\": \"children\", \"Month\": \"2015-06-01T00:00:00\", \"N_ratings\": 60423}, {\"Genre\": \"children\", \"Month\": \"2015-07-01T00:00:00\", \"N_ratings\": 68724}, {\"Genre\": \"history_biography\", \"Month\": \"2015-07-01T00:00:00\", \"N_ratings\": 146740}, {\"Genre\": \"children\", \"Month\": \"2015-08-01T00:00:00\", \"N_ratings\": 65744}, {\"Genre\": \"history_biography\", \"Month\": \"2015-08-01T00:00:00\", \"N_ratings\": 149067}, {\"Genre\": \"history_biography\", \"Month\": \"2015-09-01T00:00:00\", \"N_ratings\": 127604}, {\"Genre\": \"children\", \"Month\": \"2015-09-01T00:00:00\", \"N_ratings\": 60070}, {\"Genre\": \"history_biography\", \"Month\": \"2015-10-01T00:00:00\", \"N_ratings\": 121878}, {\"Genre\": \"children\", \"Month\": \"2015-10-01T00:00:00\", \"N_ratings\": 62947}, {\"Genre\": \"history_biography\", \"Month\": \"2015-11-01T00:00:00\", \"N_ratings\": 132163}, {\"Genre\": \"children\", \"Month\": \"2015-11-01T00:00:00\", \"N_ratings\": 63494}, {\"Genre\": \"history_biography\", \"Month\": \"2015-12-01T00:00:00\", \"N_ratings\": 152623}, {\"Genre\": \"children\", \"Month\": \"2015-12-01T00:00:00\", \"N_ratings\": 75957}, {\"Genre\": \"children\", \"Month\": \"2016-01-01T00:00:00\", \"N_ratings\": 116608}, {\"Genre\": \"history_biography\", \"Month\": \"2016-01-01T00:00:00\", \"N_ratings\": 244717}, {\"Genre\": \"children\", \"Month\": \"2016-02-01T00:00:00\", \"N_ratings\": 72095}, {\"Genre\": \"history_biography\", \"Month\": \"2016-02-01T00:00:00\", \"N_ratings\": 159757}, {\"Genre\": \"children\", \"Month\": \"2016-03-01T00:00:00\", \"N_ratings\": 67536}, {\"Genre\": \"history_biography\", \"Month\": \"2016-03-01T00:00:00\", \"N_ratings\": 156765}, {\"Genre\": \"children\", \"Month\": \"2016-04-01T00:00:00\", \"N_ratings\": 62850}, {\"Genre\": \"history_biography\", \"Month\": \"2016-04-01T00:00:00\", \"N_ratings\": 144622}, {\"Genre\": \"children\", \"Month\": \"2016-05-01T00:00:00\", \"N_ratings\": 69148}, {\"Genre\": \"history_biography\", \"Month\": \"2016-05-01T00:00:00\", \"N_ratings\": 145517}, {\"Genre\": \"children\", \"Month\": \"2016-06-01T00:00:00\", \"N_ratings\": 65266}, {\"Genre\": \"history_biography\", \"Month\": \"2016-06-01T00:00:00\", \"N_ratings\": 143781}, {\"Genre\": \"history_biography\", \"Month\": \"2016-07-01T00:00:00\", \"N_ratings\": 148089}, {\"Genre\": \"children\", \"Month\": \"2016-07-01T00:00:00\", \"N_ratings\": 65660}, {\"Genre\": \"history_biography\", \"Month\": \"2016-08-01T00:00:00\", \"N_ratings\": 151644}, {\"Genre\": \"children\", \"Month\": \"2016-08-01T00:00:00\", \"N_ratings\": 68023}, {\"Genre\": \"children\", \"Month\": \"2016-09-01T00:00:00\", \"N_ratings\": 61072}, {\"Genre\": \"history_biography\", \"Month\": \"2016-09-01T00:00:00\", \"N_ratings\": 137875}, {\"Genre\": \"children\", \"Month\": \"2016-10-01T00:00:00\", \"N_ratings\": 65710}, {\"Genre\": \"history_biography\", \"Month\": \"2016-10-01T00:00:00\", \"N_ratings\": 134892}, {\"Genre\": \"children\", \"Month\": \"2016-11-01T00:00:00\", \"N_ratings\": 62110}, {\"Genre\": \"history_biography\", \"Month\": \"2016-11-01T00:00:00\", \"N_ratings\": 136769}, {\"Genre\": \"children\", \"Month\": \"2016-12-01T00:00:00\", \"N_ratings\": 82015}, {\"Genre\": \"history_biography\", \"Month\": \"2016-12-01T00:00:00\", \"N_ratings\": 167344}, {\"Genre\": \"history_biography\", \"Month\": \"2017-01-01T00:00:00\", \"N_ratings\": 199176}, {\"Genre\": \"children\", \"Month\": \"2017-01-01T00:00:00\", \"N_ratings\": 87816}, {\"Genre\": \"history_biography\", \"Month\": \"2017-02-01T00:00:00\", \"N_ratings\": 158519}, {\"Genre\": \"children\", \"Month\": \"2017-02-01T00:00:00\", \"N_ratings\": 65375}, {\"Genre\": \"history_biography\", \"Month\": \"2017-03-01T00:00:00\", \"N_ratings\": 161039}, {\"Genre\": \"children\", \"Month\": \"2017-03-01T00:00:00\", \"N_ratings\": 70424}, {\"Genre\": \"history_biography\", \"Month\": \"2017-04-01T00:00:00\", \"N_ratings\": 151004}, {\"Genre\": \"children\", \"Month\": \"2017-04-01T00:00:00\", \"N_ratings\": 64724}, {\"Genre\": \"children\", \"Month\": \"2017-05-01T00:00:00\", \"N_ratings\": 61354}, {\"Genre\": \"history_biography\", \"Month\": \"2017-05-01T00:00:00\", \"N_ratings\": 147073}, {\"Genre\": \"children\", \"Month\": \"2017-06-01T00:00:00\", \"N_ratings\": 64630}, {\"Genre\": \"history_biography\", \"Month\": \"2017-06-01T00:00:00\", \"N_ratings\": 150838}, {\"Genre\": \"children\", \"Month\": \"2017-07-01T00:00:00\", \"N_ratings\": 65893}, {\"Genre\": \"history_biography\", \"Month\": \"2017-07-01T00:00:00\", \"N_ratings\": 163518}, {\"Genre\": \"children\", \"Month\": \"2017-08-01T00:00:00\", \"N_ratings\": 61512}, {\"Genre\": \"history_biography\", \"Month\": \"2017-08-01T00:00:00\", \"N_ratings\": 155681}, {\"Genre\": \"children\", \"Month\": \"2017-09-01T00:00:00\", \"N_ratings\": 58213}, {\"Genre\": \"history_biography\", \"Month\": \"2017-09-01T00:00:00\", \"N_ratings\": 141815}, {\"Genre\": \"history_biography\", \"Month\": \"2017-10-01T00:00:00\", \"N_ratings\": 118018}, {\"Genre\": \"children\", \"Month\": \"2017-10-01T00:00:00\", \"N_ratings\": 50612}, {\"Genre\": \"children\", \"Month\": \"2017-11-01T00:00:00\", \"N_ratings\": 889}, {\"Genre\": \"history_biography\", \"Month\": \"2017-11-01T00:00:00\", \"N_ratings\": 2346}]}}, {\"mode\": \"vega-lite\"});\n",
       "</script>"
      ],
      "text/plain": [
       "alt.Chart(...)"
      ]
     },
     "execution_count": 11,
     "metadata": {},
     "output_type": "execute_result"
    }
   ],
   "source": [
    "alt.Chart(nrating_per_genre_month).mark_bar().encode(\n",
    "    x=\"Month:T\",\n",
    "    y=\"N_ratings:Q\",\n",
    "    column=\"Genre:N\"\n",
    ")"
   ]
  },
  {
   "cell_type": "markdown",
   "id": "b9060c7d-17ed-4098-aef6-51324908733b",
   "metadata": {},
   "source": [
    "### Decision\n",
    "\n",
    "We will use the months July+August 2017 as dev set and September+October 2017 as test set. The training set ranges from August 2006 to June 2017.\n",
    "\n",
    "The number of ratings given per month is somewhat steady from 2012 with many ratings given each month. There is however a drop in the number of ratings in Octover 2017 and, more signifantly, in November 2017 probably because the dataset was generating by collecting Goodreads data over multiple weeks in this period."
   ]
  },
  {
   "cell_type": "markdown",
   "id": "50af1566",
   "metadata": {},
   "source": [
    "## Find threshold for books and users with too few ratings to make a meaningful prediction"
   ]
  },
  {
   "cell_type": "code",
   "execution_count": 12,
   "id": "ec51124e",
   "metadata": {},
   "outputs": [],
   "source": [
    "nrating_per_user = rating_df.groupby(\"user_id\").size()\n",
    "nrating_per_user = nrating_per_user.reset_index()\n",
    "nrating_per_user.columns = [\"User\", \"N_ratings\"]"
   ]
  },
  {
   "cell_type": "code",
   "execution_count": 13,
   "id": "c775e02e-04b8-4ecf-9d41-e73f9a23ea54",
   "metadata": {},
   "outputs": [],
   "source": [
    "nrating_per_user.sort_values(\"N_ratings\", inplace=True, ascending=False)"
   ]
  },
  {
   "cell_type": "code",
   "execution_count": 14,
   "id": "59c124bb-f9be-4825-8512-539e7ca0c985",
   "metadata": {},
   "outputs": [
    {
     "name": "stdout",
     "output_type": "stream",
     "text": [
      "                                    User  N_ratings\n",
      "131092  2fe1c721ba1cc6c30d4c09965bb82f78      10578\n",
      "541421  c5823767a1a164cd8e9d029f1806f2aa       6955\n",
      "394554  9003d274774f4c47e62f77600b08ac1d       5377\n",
      "633702  e74579ee17545a6c4595ab0e43fce8a8       5337\n",
      "232323  54da946caf0be4f0eedf6728da39bac7       4981\n",
      "                                    User  N_ratings\n",
      "232974  551a6df2dc37586bb610aa4408a536b2          1\n",
      "639428  e9603e55d5b6ef8050ad1c11420a3338          1\n",
      "639426  e9602ce2025f6a5f94e00ff8a52b41ef          1\n",
      "232967  5519d9416db7c2fef5485bb2bbb3380b          1\n",
      "420380  9979738b01ba7628eed487d3c52da57b          1\n"
     ]
    }
   ],
   "source": [
    "print(nrating_per_user.head())\n",
    "print(nrating_per_user.tail())"
   ]
  },
  {
   "cell_type": "code",
   "execution_count": 15,
   "id": "7e942532-1e8d-497d-bbf9-857e1fcd5be9",
   "metadata": {},
   "outputs": [
    {
     "name": "stdout",
     "output_type": "stream",
     "text": [
      "Cutoff 5 removes 221020 of 701418 (31.510455%) users.\n"
     ]
    }
   ],
   "source": [
    "cutoff = 5\n",
    "removed = sum(nrating_per_user[\"N_ratings\"] < cutoff)\n",
    "initial = len(nrating_per_user)\n",
    "print(f\"Cutoff {cutoff} removes {removed} of {initial} ({removed/initial:%}) users.\")"
   ]
  },
  {
   "cell_type": "code",
   "execution_count": 16,
   "id": "dcbb7da7-a986-45cd-b598-5afe052723cd",
   "metadata": {},
   "outputs": [],
   "source": [
    "nrating_per_book = rating_df.groupby(\"book_id\").size()\n",
    "nrating_per_book = nrating_per_book.reset_index()\n",
    "nrating_per_book.columns = [\"Book\", \"N_ratings\"]"
   ]
  },
  {
   "cell_type": "code",
   "execution_count": 17,
   "id": "c809d9cc-e11e-4fd4-98e3-2985010fb29f",
   "metadata": {},
   "outputs": [],
   "source": [
    "nrating_per_book.sort_values(\"N_ratings\", inplace=True, ascending=False)"
   ]
  },
  {
   "cell_type": "code",
   "execution_count": 18,
   "id": "d127cf86-20b0-4ce9-9c7f-5a7a30e7ccf6",
   "metadata": {},
   "outputs": [
    {
     "name": "stdout",
     "output_type": "stream",
     "text": [
      "         Book  N_ratings\n",
      "230302   2657     191018\n",
      "319267      5     172207\n",
      "317552  48855     122493\n",
      "3447    10210      95682\n",
      "298404   3636      93057\n",
      "            Book  N_ratings\n",
      "268866  31348245          1\n",
      "268865  31348232          1\n",
      "268855   3134669          1\n",
      "268854  31346594          1\n",
      "209077  25001101          1\n"
     ]
    }
   ],
   "source": [
    "print(nrating_per_book.head())\n",
    "print(nrating_per_book.tail())"
   ]
  },
  {
   "cell_type": "code",
   "execution_count": 19,
   "id": "b6bd4d79-64c5-4329-a509-8322dbc4ed28",
   "metadata": {},
   "outputs": [
    {
     "name": "stdout",
     "output_type": "stream",
     "text": [
      "Cutoff 5 removes 184179 of 418154 (44.045734%) books.\n"
     ]
    }
   ],
   "source": [
    "cutoff = 5\n",
    "removed = sum(nrating_per_book[\"N_ratings\"] < cutoff)\n",
    "initial = len(nrating_per_book)\n",
    "print(f\"Cutoff {cutoff} removes {removed} of {initial} ({removed/initial:%}) books.\")"
   ]
  },
  {
   "cell_type": "markdown",
   "id": "8fba09aa-e984-4c49-8a83-baa5ee4650a7",
   "metadata": {},
   "source": [
    "### Decision\n",
    "\n",
    "After playing with cutoffs, a cutoff of 5, i.e. removing books and users with less than 5 associated ratings, seems reasonable. Thid cutoff will still yield a dataset including most books and users but exclude entities that have to few ratings to make meaningful predictions."
   ]
  }
 ],
 "metadata": {
  "kernelspec": {
   "display_name": "Python 3",
   "language": "python",
   "name": "python3"
  },
  "language_info": {
   "codemirror_mode": {
    "name": "ipython",
    "version": 3
   },
   "file_extension": ".py",
   "mimetype": "text/x-python",
   "name": "python",
   "nbconvert_exporter": "python",
   "pygments_lexer": "ipython3",
   "version": "3.9.4"
  }
 },
 "nbformat": 4,
 "nbformat_minor": 5
}
