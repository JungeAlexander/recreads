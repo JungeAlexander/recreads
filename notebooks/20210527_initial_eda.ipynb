{
 "cells": [
  {
   "cell_type": "markdown",
   "id": "488922d6",
   "metadata": {},
   "source": [
    "# EDA of initial data download"
   ]
  },
  {
   "cell_type": "code",
   "execution_count": null,
   "id": "bb10eab2",
   "metadata": {},
   "outputs": [],
   "source": [
    "from datetime import date\n",
    "import gzip\n",
    "import json\n",
    "from pathlib import Path\n",
    "\n",
    "import altair as alt\n",
    "import arrow\n",
    "import lux\n",
    "import pandas as pd"
   ]
  },
  {
   "cell_type": "code",
   "execution_count": null,
   "id": "0937c535",
   "metadata": {},
   "outputs": [],
   "source": [
    "input_dir = Path(\"../data/raw/20210527_initial_data_children_biography/\")"
   ]
  },
  {
   "cell_type": "code",
   "execution_count": null,
   "id": "74a28bb9",
   "metadata": {},
   "outputs": [],
   "source": [
    "genres = [\"children\", \"history_biography\"]"
   ]
  },
  {
   "cell_type": "markdown",
   "id": "fa366f0d",
   "metadata": {},
   "source": [
    "## Plot ratings distribution by genre"
   ]
  },
  {
   "cell_type": "code",
   "execution_count": null,
   "id": "9fa06db9",
   "metadata": {},
   "outputs": [],
   "source": [
    "def load_ratings(genres):\n",
    "    for genre in genres:\n",
    "        input_file = input_dir / f\"goodreads_interactions_{genre}.json.gz\"\n",
    "        with gzip.open(input_file, \"rt\") as fin:\n",
    "            for i, line in enumerate(fin):\n",
    "#                 if i > 999:\n",
    "#                     break\n",
    "                j = json.loads(line)\n",
    "                if j[\"rating\"] > 0:\n",
    "                    d = arrow.get(j[\"date_updated\"], \"ddd MMM DD HH:mm:ss Z YYYY\").date()\n",
    "                    first_day_month = date(year=d.year, month=d.month, day=1)\n",
    "                    yield j[\"user_id\"], j[\"book_id\"], first_day_month, genre, j[\"rating\"]"
   ]
  },
  {
   "cell_type": "code",
   "execution_count": null,
   "id": "998b5c31",
   "metadata": {},
   "outputs": [],
   "source": [
    "rating_df = pd.DataFrame(load_ratings(genres), columns=[\"user_id\", \"book_id\", \"month\", \"genre\", \"rating\"])\n",
    "rating_df[\"month\"] = pd.to_datetime(rating_df[\"month\"])\n",
    "rating_df = rating_df.convert_dtypes()"
   ]
  },
  {
   "cell_type": "code",
   "execution_count": null,
   "id": "107be159-0486-43df-ba66-8e174fd4d06f",
   "metadata": {},
   "outputs": [],
   "source": [
    "ratings_per_genre = rating_df.groupby([\"genre\", \"rating\"]).size()\n",
    "ratings_per_genre = ratings_per_genre.reset_index()\n",
    "ratings_per_genre.columns = [\"Genre\", \"Rating\", \"Count\"]"
   ]
  },
  {
   "cell_type": "code",
   "execution_count": null,
   "id": "29f8a9fd-7324-4bae-bc74-e671ee8d9d8d",
   "metadata": {},
   "outputs": [],
   "source": [
    "alt.Chart(ratings_per_genre).mark_bar().encode(\n",
    "    x=\"Rating:O\",\n",
    "    y=\"Count:Q\",\n",
    "    column=\"Genre:N\"\n",
    ")"
   ]
  },
  {
   "cell_type": "markdown",
   "id": "5e3c8594",
   "metadata": {},
   "source": [
    "Labeling ratings $\\leq 3$ as negative and $> 3$ as positive might be a first thing to try.\n",
    "\n",
    "Based on my own experience, there is also a self-justification aspect to be aware of when interpreting ratings: when I spend the time reading a whole book, rating it less then 3 becomes unlikely even though I did not really like the book because rating it $< 3$ would mean that I wasted a lot of time reading the book in the first place."
   ]
  },
  {
   "cell_type": "markdown",
   "id": "ce6202f3",
   "metadata": {},
   "source": [
    "## Plot ratings over time"
   ]
  },
  {
   "cell_type": "code",
   "execution_count": null,
   "id": "98617655",
   "metadata": {},
   "outputs": [],
   "source": [
    "nrating_per_genre_month = rating_df.groupby([\"genre\", \"month\"]).size()\n",
    "nrating_per_genre_month = nrating_per_genre_month.reset_index()\n",
    "nrating_per_genre_month.columns = [\"Genre\", \"Month\", \"N_ratings\"]"
   ]
  },
  {
   "cell_type": "code",
   "execution_count": null,
   "id": "16259823-0e2b-48fb-8494-d94209df583a",
   "metadata": {},
   "outputs": [],
   "source": [
    "nrating_per_genre_month"
   ]
  },
  {
   "cell_type": "code",
   "execution_count": null,
   "id": "210a0a88",
   "metadata": {},
   "outputs": [],
   "source": [
    "alt.Chart(nrating_per_genre_month).mark_bar().encode(\n",
    "    x=\"Month:T\",\n",
    "    y=\"N_ratings:Q\",\n",
    "    column=\"Genre:N\"\n",
    ")"
   ]
  },
  {
   "cell_type": "markdown",
   "id": "50af1566",
   "metadata": {},
   "source": [
    "## Plot (cumulative) distribution of rating count for books and users "
   ]
  },
  {
   "cell_type": "code",
   "execution_count": null,
   "id": "ec51124e",
   "metadata": {},
   "outputs": [],
   "source": []
  }
 ],
 "metadata": {
  "kernelspec": {
   "display_name": "Python 3",
   "language": "python",
   "name": "python3"
  },
  "language_info": {
   "codemirror_mode": {
    "name": "ipython",
    "version": 3
   },
   "file_extension": ".py",
   "mimetype": "text/x-python",
   "name": "python",
   "nbconvert_exporter": "python",
   "pygments_lexer": "ipython3",
   "version": "3.9.4"
  }
 },
 "nbformat": 4,
 "nbformat_minor": 5
}
