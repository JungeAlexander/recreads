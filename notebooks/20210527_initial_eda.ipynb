{
 "cells": [
  {
   "cell_type": "markdown",
   "id": "488922d6",
   "metadata": {},
   "source": [
    "# Initial EDA of initial data download"
   ]
  },
  {
   "cell_type": "code",
   "execution_count": 1,
   "id": "bb10eab2",
   "metadata": {},
   "outputs": [],
   "source": [
    "from datetime import date\n",
    "import gzip\n",
    "import json\n",
    "from pathlib import Path\n",
    "\n",
    "import arrow\n",
    "import pandas as pd\n",
    "import seaborn as sns"
   ]
  },
  {
   "cell_type": "code",
   "execution_count": 2,
   "id": "0937c535",
   "metadata": {},
   "outputs": [],
   "source": [
    "input_dir = Path(\"../data/raw/20210527_initial_data_children_biography/\")"
   ]
  },
  {
   "cell_type": "code",
   "execution_count": 3,
   "id": "74a28bb9",
   "metadata": {},
   "outputs": [],
   "source": [
    "genres = [\"children\", \"history_biography\"]"
   ]
  },
  {
   "cell_type": "markdown",
   "id": "fa366f0d",
   "metadata": {},
   "source": [
    "## Plot ratings distribution by genre"
   ]
  },
  {
   "cell_type": "code",
   "execution_count": 4,
   "id": "9fa06db9",
   "metadata": {},
   "outputs": [],
   "source": [
    "def load_ratings(genres):\n",
    "    for genre in genres:\n",
    "        input_file = input_dir / f\"goodreads_interactions_{genre}.json.gz\"\n",
    "        with gzip.open(input_file, \"rt\") as fin:\n",
    "            for i, line in enumerate(fin):\n",
    "                # if i > 999:\n",
    "                #    break\n",
    "                j = json.loads(line)\n",
    "                if j[\"rating\"] > 0:\n",
    "                    d = arrow.get(j[\"date_updated\"], \"ddd MMM DD HH:mm:ss Z YYYY\").date()\n",
    "                    first_day_month = date(year=d.year, month=d.month, day=1)\n",
    "                    yield j[\"user_id\"], j[\"book_id\"], first_day_month, genre, j[\"rating\"]"
   ]
  },
  {
   "cell_type": "code",
   "execution_count": 5,
   "id": "998b5c31",
   "metadata": {},
   "outputs": [],
   "source": [
    "rating_df = pd.DataFrame(load_ratings(genres), columns=[\"user_id\", \"book_id\", \"month\", \"genre\", \"rating\"])"
   ]
  },
  {
   "cell_type": "code",
   "execution_count": 6,
   "id": "ae1182cd",
   "metadata": {},
   "outputs": [
    {
     "data": {
      "text/plain": [
       "<AxesSubplot:xlabel='rating', ylabel='Count'>"
      ]
     },
     "execution_count": 6,
     "metadata": {},
     "output_type": "execute_result"
    },
    {
     "data": {
      "image/png": "[encoded data removed]",
      "text/plain": [
       "<Figure size 432x288 with 1 Axes>"
      ]
     },
     "metadata": {
      "needs_background": "light"
     },
     "output_type": "display_data"
    }
   ],
   "source": [
    "sns.histplot(rating_df, x=\"rating\", hue=\"genre\", discrete=True)"
   ]
  },
  {
   "cell_type": "markdown",
   "id": "5e3c8594",
   "metadata": {},
   "source": [
    "Labeling ratings $\\leq 3$ as negative and $> 3$ as positive might be a first thing to try. "
   ]
  },
  {
   "cell_type": "markdown",
   "id": "ce6202f3",
   "metadata": {},
   "source": [
    "## Plot ratings over time"
   ]
  },
  {
   "cell_type": "code",
   "execution_count": null,
   "id": "deaf64b2",
   "metadata": {},
   "outputs": [],
   "source": []
  },
  {
   "cell_type": "markdown",
   "id": "50af1566",
   "metadata": {},
   "source": [
    "## Plot (cumulative) distribution of rating count for books and users "
   ]
  },
  {
   "cell_type": "code",
   "execution_count": null,
   "id": "ec51124e",
   "metadata": {},
   "outputs": [],
   "source": []
  }
 ],
 "metadata": {
  "kernelspec": {
   "display_name": "Python 3",
   "language": "python",
   "name": "python3"
  },
  "language_info": {
   "codemirror_mode": {
    "name": "ipython",
    "version": 3
   },
   "file_extension": ".py",
   "mimetype": "text/x-python",
   "name": "python",
   "nbconvert_exporter": "python",
   "pygments_lexer": "ipython3",
   "version": "3.9.4"
  }
 },
 "nbformat": 4,
 "nbformat_minor": 5
}
