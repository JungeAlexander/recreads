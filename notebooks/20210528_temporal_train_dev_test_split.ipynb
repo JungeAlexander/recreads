{
 "cells": [
  {
   "cell_type": "markdown",
   "id": "05f3a70e",
   "metadata": {},
   "source": [
    "# Splitting into train, dev, and test set\n",
    "\n",
    "Splits are defined according to criteria in `20210527_initial_eda.ipynb`:\n",
    "\n",
    "- remove books with less $< 5$ ratings\n",
    "- remove users with less $< 5$ ratings\n",
    "- training set ranges from August 2006 to June 2017\n",
    "- dev set ranges from July to August 2017\n",
    "- test set ranges from September to October 2017"
   ]
  },
  {
   "cell_type": "code",
   "execution_count": 1,
   "id": "ae1cf2bc",
   "metadata": {},
   "outputs": [],
   "source": [
    "from datetime import date\n",
    "import gzip\n",
    "import json\n",
    "from pathlib import Path\n",
    "\n",
    "import pandas as pd\n",
    "\n",
    "from recreads.data.load import load_ratings_raw"
   ]
  },
  {
   "cell_type": "code",
   "execution_count": 2,
   "id": "969de84c",
   "metadata": {},
   "outputs": [],
   "source": [
    "input_dir = Path(\"../data/raw/20210527_initial_data_children_biography/\")"
   ]
  },
  {
   "cell_type": "code",
   "execution_count": 3,
   "id": "d87f1a01-dfdf-4adf-8451-92a14e59873c",
   "metadata": {},
   "outputs": [],
   "source": [
    "genres = [\"children\"] #, \"history_biography\"]"
   ]
  },
  {
   "cell_type": "code",
   "execution_count": 4,
   "id": "1e18380c-7cc2-4fc9-a48e-68f334e35089",
   "metadata": {},
   "outputs": [],
   "source": [
    "for genre in genres:\n",
    "    ratings = load_ratings_raw(data_dir=input_dir, genre=genres[0])\n",
    "\n",
    "    complete_user_count = len(ratings.loc[:, \"User_id\"].unique())\n",
    "    complete_book_count = len(ratings.loc[:, \"Book_id\"].unique())\n",
    "\n",
    "    rating_cutoff = 5\n",
    "\n",
    "    # remove books with < rating_cutoff ratings\n",
    "    nrating_per_book = ratings.groupby(\"Book_id\").size()\n",
    "    nrating_per_book = nrating_per_book.reset_index()\n",
    "    nrating_per_book.columns = [\"Book_id\", \"N_ratings\"]\n",
    "\n",
    "    remove_books = (nrating_per_book.loc[nrating_per_book.loc[:, \"N_ratings\"] < rating_cutoff, \"Book_id\"]).unique()\n",
    "    ratings = ratings.loc[~ratings.loc[:, \"Book_id\"].isin(remove_books), :]\n",
    "\n",
    "    # remove users with < rating_cutoff ratings\n",
    "    nrating_per_user = ratings.groupby(\"User_id\").size()\n",
    "    nrating_per_user = nrating_per_user.reset_index()\n",
    "    nrating_per_user.columns = [\"User_id\", \"N_ratings\"]\n",
    "\n",
    "    remove_users = (nrating_per_user.loc[nrating_per_user.loc[:, \"N_ratings\"] < rating_cutoff, \"User_id\"]).unique()\n",
    "    ratings = ratings.loc[~ratings.loc[:, \"User_id\"].isin(remove_users), :]\n",
    "    \n",
    "    remaining_user_count = len(ratings.loc[:, \"User_id\"].unique())\n",
    "    remaining_book_count = len(ratings.loc[:, \"Book_id\"].unique())\n",
    "    \n",
    "    print(f\"{genre}: {remaining_book_count} of {complete_book_count} ({remaining_book_count/complete_book_count:%}) books remaining.\")\n",
    "    print(f\"{genre}: {remaining_user_count} of {complete_user_count} ({remaining_user_count/complete_user_count:%}) users remaining.\")\n",
    "\n",
    "    # temporal split into train, dev, test\n",
    "    dev_cutoff_date = date(year=2017, month=7, day = 1)\n",
    "    test_cutoff_date = date(year=2017, month=9, day = 1)\n",
    "\n",
    "    is_train = ratings.loc[:, \"Month\"].apply(lambda m: m < dev_cutoff_date)\n",
    "    is_dev = ratings.loc[:, \"Month\"].apply(lambda m: dev_cutoff_date <= m < test_cutoff_date)\n",
    "    is_test = ratings.loc[:, \"Month\"].apply(lambda m: test_cutoff_date <= m)\n",
    "\n",
    "    assert is_train.sum() + is_dev.sum() + is_test.sum() == len(ratings)\n",
    "\n",
    "    train_ratings_df = ratings.loc[is_train, :]\n",
    "    dev_ratings_df = ratings.loc[is_dev, :]\n",
    "    test_ratings_df = ratings.loc[is_test, :]\n",
    "\n",
    "    train_ratings_df = train_ratings_df.sample(frac=1).reset_index(drop=True)\n",
    "    dev_ratings_df = dev_ratings_df.sample(frac=1).reset_index(drop=True)\n",
    "    test_ratings_df = test_ratings_df.sample(frac=1).reset_index(drop=True)"
   ]
  },
  {
   "cell_type": "markdown",
   "id": "9c39757d-80ce-4c8f-ae67-dc041ac14951",
   "metadata": {},
   "source": [
    "TODO: # ratings, #books, #users; ; check; save"
   ]
  }
 ],
 "metadata": {
  "kernelspec": {
   "display_name": "Python 3",
   "language": "python",
   "name": "python3"
  },
  "language_info": {
   "codemirror_mode": {
    "name": "ipython",
    "version": 3
   },
   "file_extension": ".py",
   "mimetype": "text/x-python",
   "name": "python",
   "nbconvert_exporter": "python",
   "pygments_lexer": "ipython3",
   "version": "3.9.4"
  }
 },
 "nbformat": 4,
 "nbformat_minor": 5
}
