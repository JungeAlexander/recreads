{
 "cells": [
  {
   "cell_type": "markdown",
   "id": "05f3a70e",
   "metadata": {},
   "source": [
    "# Splitting into train, dev, and test set\n",
    "\n",
    "Splits are defined according to criteria in `20210527_initial_eda.ipynb`:\n",
    "\n",
    "- remove users with less $< 5$ ratings\n",
    "- remove books with less $< 5$ ratings\n",
    "- training set ranges from August 2006 to June 2017\n",
    "- dev set ranges from July to August 2017\n",
    "- test set ranges from September to October 2017"
   ]
  },
  {
   "cell_type": "code",
   "execution_count": 1,
   "id": "ae1cf2bc",
   "metadata": {},
   "outputs": [],
   "source": [
    "import json\n",
    "from pathlib import Path\n",
    "\n",
    "import pandas as pd\n",
    "import seaborn as sns"
   ]
  },
  {
   "cell_type": "code",
   "execution_count": null,
   "id": "969de84c",
   "metadata": {},
   "outputs": [],
   "source": []
  }
 ],
 "metadata": {
  "kernelspec": {
   "display_name": "Python 3",
   "language": "python",
   "name": "python3"
  },
  "language_info": {
   "codemirror_mode": {
    "name": "ipython",
    "version": 3
   },
   "file_extension": ".py",
   "mimetype": "text/x-python",
   "name": "python",
   "nbconvert_exporter": "python",
   "pygments_lexer": "ipython3",
   "version": "3.9.4"
  }
 },
 "nbformat": 4,
 "nbformat_minor": 5
}
