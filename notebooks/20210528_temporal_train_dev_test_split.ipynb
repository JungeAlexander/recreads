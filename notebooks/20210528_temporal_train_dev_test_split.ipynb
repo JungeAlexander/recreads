{
 "cells": [
  {
   "cell_type": "markdown",
   "id": "05f3a70e",
   "metadata": {},
   "source": [
    "# Splitting into train, dev, and test set\n",
    "\n",
    "Splits are defined according to criteria in `20210527_initial_eda.ipynb`:\n",
    "\n",
    "- remove books with less $< 5$ ratings\n",
    "- remove users with less $< 5$ ratings\n",
    "- training set ranges from August 2006 to June 2017\n",
    "- dev set ranges from July to August 2017\n",
    "- test set ranges from September to October 2017\n",
    "\n",
    "Basic statistics about the different splits are printed at the end of the notebook."
   ]
  },
  {
   "cell_type": "code",
   "execution_count": 1,
   "id": "ae1cf2bc",
   "metadata": {},
   "outputs": [],
   "source": [
    "from datetime import date\n",
    "import gzip\n",
    "import json\n",
    "from pathlib import Path\n",
    "\n",
    "import pandas as pd\n",
    "\n",
    "from recreads.data.load import load_ratings_raw"
   ]
  },
  {
   "cell_type": "code",
   "execution_count": 2,
   "id": "969de84c",
   "metadata": {},
   "outputs": [],
   "source": [
    "input_dir = Path(\"../data/raw/20210527_initial_data_children_biography/\")\n",
    "output_dir = Path(\"../data/interim/20210602_initial_data_children_biography_train_dev_test/\")\n",
    "output_dir.mkdir(exist_ok=True, parents=True)"
   ]
  },
  {
   "cell_type": "code",
   "execution_count": 3,
   "id": "d87f1a01-dfdf-4adf-8451-92a14e59873c",
   "metadata": {},
   "outputs": [],
   "source": [
    "genres = [\"children\", \"history_biography\"]"
   ]
  },
  {
   "cell_type": "code",
   "execution_count": 4,
   "id": "9db5ed6d-722a-493f-bba6-a90d84958e5f",
   "metadata": {},
   "outputs": [
    {
     "name": "stdout",
     "output_type": "stream",
     "text": [
      "children: 71155 of 122741 (57.971664%) books remaining.\n",
      "children: 195318 of 462164 (42.261621%) users remaining.\n",
      "children train: book_count=70741 user_count=193332 rating_count=5561568 rated_fraction=0.0004066514387285944\n",
      "children dev: book_count=26275 user_count=22109 rating_count=109579 rated_fraction=0.00018863206036659732\n",
      "children test: book_count=24753 user_count=20056 rating_count=94836 rated_fraction=0.00019102977545795057\n",
      "----\n",
      "history_biography: 164563 of 299484 (54.948845%) books remaining.\n",
      "history_biography: 403225 of 660364 (61.061021%) users remaining.\n",
      "history_biography train: book_count=163304 user_count=399234 rating_count=11012897 rated_fraction=0.00016891850723214463\n",
      "history_biography dev: book_count=61618 user_count=95387 rating_count=286669 rated_fraction=4.877350243938103e-05\n",
      "history_biography test: book_count=55771 user_count=84206 rating_count=233790 rated_fraction=4.978224313343219e-05\n",
      "----\n"
     ]
    }
   ],
   "source": [
    "for genre in genres:\n",
    "    ratings = load_ratings_raw(data_dir=input_dir, genre=genre)\n",
    "\n",
    "    complete_user_count = len(ratings.loc[:, \"User_id\"].unique())\n",
    "    complete_book_count = len(ratings.loc[:, \"Book_id\"].unique())\n",
    "\n",
    "    rating_cutoff = 5\n",
    "\n",
    "    # remove books with < rating_cutoff ratings\n",
    "    nrating_per_book = ratings.groupby(\"Book_id\").size()\n",
    "    nrating_per_book = nrating_per_book.reset_index()\n",
    "    nrating_per_book.columns = [\"Book_id\", \"N_ratings\"]\n",
    "\n",
    "    remove_books = (nrating_per_book.loc[nrating_per_book.loc[:, \"N_ratings\"] < rating_cutoff, \"Book_id\"]).unique()\n",
    "    ratings = ratings.loc[~ratings.loc[:, \"Book_id\"].isin(remove_books), :]\n",
    "\n",
    "    # remove users with < rating_cutoff ratings\n",
    "    nrating_per_user = ratings.groupby(\"User_id\").size()\n",
    "    nrating_per_user = nrating_per_user.reset_index()\n",
    "    nrating_per_user.columns = [\"User_id\", \"N_ratings\"]\n",
    "\n",
    "    remove_users = (nrating_per_user.loc[nrating_per_user.loc[:, \"N_ratings\"] < rating_cutoff, \"User_id\"]).unique()\n",
    "    ratings = ratings.loc[~ratings.loc[:, \"User_id\"].isin(remove_users), :]\n",
    "    \n",
    "    remaining_user_count = len(ratings.loc[:, \"User_id\"].unique())\n",
    "    remaining_book_count = len(ratings.loc[:, \"Book_id\"].unique())\n",
    "    \n",
    "    print(f\"{genre}: {remaining_book_count} of {complete_book_count} ({remaining_book_count/complete_book_count:%}) books remaining.\")\n",
    "    print(f\"{genre}: {remaining_user_count} of {complete_user_count} ({remaining_user_count/complete_user_count:%}) users remaining.\")\n",
    "\n",
    "    # temporal split into train, dev, test\n",
    "    dev_cutoff_date = date(year=2017, month=7, day = 1)\n",
    "    test_cutoff_date = date(year=2017, month=9, day = 1)\n",
    "\n",
    "    is_train = ratings.loc[:, \"Month\"].apply(lambda m: m < dev_cutoff_date)\n",
    "    is_dev = ratings.loc[:, \"Month\"].apply(lambda m: dev_cutoff_date <= m < test_cutoff_date)\n",
    "    is_test = ratings.loc[:, \"Month\"].apply(lambda m: test_cutoff_date <= m)\n",
    "\n",
    "    assert is_train.sum() + is_dev.sum() + is_test.sum() == len(ratings)\n",
    "\n",
    "    train_ratings_df = ratings.loc[is_train, :]\n",
    "    dev_ratings_df = ratings.loc[is_dev, :]\n",
    "    test_ratings_df = ratings.loc[is_test, :]\n",
    "\n",
    "    # shuffle rows in each split\n",
    "    train_ratings_df = train_ratings_df.sample(frac=1).reset_index(drop=True)\n",
    "    dev_ratings_df = dev_ratings_df.sample(frac=1).reset_index(drop=True)\n",
    "    test_ratings_df = test_ratings_df.sample(frac=1).reset_index(drop=True)\n",
    "\n",
    "    # print basic statistics over splits and save to disc\n",
    "    datasets = [\"train\", \"dev\", \"test\"]\n",
    "    dfs = [train_ratings_df, dev_ratings_df, test_ratings_df]\n",
    "    for ds, df in zip(datasets, dfs):\n",
    "        user_count = len(df.loc[:, \"User_id\"].unique())\n",
    "        book_count = len(df.loc[:, \"Book_id\"].unique())\n",
    "        rating_count = len(df)\n",
    "        rated_fraction = rating_count/(user_count * book_count)\n",
    "        print(f\"{genre} {ds}: {book_count=} {user_count=} {rating_count=} {rated_fraction=}\")\n",
    "        out_path = output_dir / f\"{genre}-{ds}.parquet\"\n",
    "        df.to_parquet(out_path, compression=\"snappy\")\n",
    "    print(\"----\")"
   ]
  }
 ],
 "metadata": {
  "kernelspec": {
   "display_name": "Python 3",
   "language": "python",
   "name": "python3"
  },
  "language_info": {
   "codemirror_mode": {
    "name": "ipython",
    "version": 3
   },
   "file_extension": ".py",
   "mimetype": "text/x-python",
   "name": "python",
   "nbconvert_exporter": "python",
   "pygments_lexer": "ipython3",
   "version": "3.9.4"
  }
 },
 "nbformat": 4,
 "nbformat_minor": 5
}
