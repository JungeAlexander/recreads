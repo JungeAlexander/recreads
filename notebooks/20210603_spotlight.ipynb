{
 "cells": [
  {
   "cell_type": "code",
   "execution_count": 1,
   "id": "0d751a91-2d87-443c-9be4-cbfdf07b0498",
   "metadata": {},
   "outputs": [],
   "source": [
    "import numpy as np\n",
    "import pandas as pd\n",
    "from spotlight.evaluation import rmse_score\n",
    "from spotlight.factorization.explicit import ExplicitFactorizationModel\n",
    "from spotlight.interactions import Interactions"
   ]
  },
  {
   "cell_type": "code",
   "execution_count": 2,
   "id": "89c73d4f-4c9e-4eb0-8683-4daac2e68b43",
   "metadata": {},
   "outputs": [],
   "source": [
    "train_df = pd.read_parquet(\"../data/interim/20210602_initial_data_children_biography_train_dev_test/children-train.parquet\")"
   ]
  },
  {
   "cell_type": "code",
   "execution_count": 3,
   "id": "95120f34-415b-4658-8561-5db68b15ce8c",
   "metadata": {},
   "outputs": [],
   "source": [
    "user_id_long_to_id = {_id: i for i, _id in enumerate(train_df[\"Book_id\"].unique())}"
   ]
  },
  {
   "cell_type": "code",
   "execution_count": 4,
   "id": "59a812b4-787a-4318-93df-813411f20f5c",
   "metadata": {},
   "outputs": [],
   "source": [
    "users = np.asarray([user_id_long_to_id[_id] for _id in train_df[\"Book_id\"]], dtype=\"int32\")"
   ]
  },
  {
   "cell_type": "code",
   "execution_count": 5,
   "id": "6ffb05b6-304e-45ce-8e95-d202053d7a3e",
   "metadata": {},
   "outputs": [],
   "source": [
    "books = train_df[\"Book_id\"].values.astype(\"int32\")"
   ]
  },
  {
   "cell_type": "code",
   "execution_count": 6,
   "id": "fe16b732-1627-4d9d-90e3-8fbba1e79023",
   "metadata": {},
   "outputs": [],
   "source": [
    "ratings = train_df[\"Rating\"].values.astype(\"float32\")"
   ]
  },
  {
   "cell_type": "code",
   "execution_count": 7,
   "id": "46b2153e-70bb-412b-a019-7510bddeb358",
   "metadata": {},
   "outputs": [],
   "source": [
    "train = Interactions(users, books, ratings=ratings)"
   ]
  },
  {
   "cell_type": "code",
   "execution_count": null,
   "id": "fe5b6e37-785c-456d-b972-75f20ab28171",
   "metadata": {},
   "outputs": [],
   "source": [
    "model = ExplicitFactorizationModel(n_iter=1)\n",
    "model.fit(train)"
   ]
  },
  {
   "cell_type": "code",
   "execution_count": null,
   "id": "8c07ffd2-ce15-461e-a471-b9f95b845208",
   "metadata": {},
   "outputs": [],
   "source": []
  }
 ],
 "metadata": {
  "kernelspec": {
   "display_name": "Python 3",
   "language": "python",
   "name": "python3"
  },
  "language_info": {
   "codemirror_mode": {
    "name": "ipython",
    "version": 3
   },
   "file_extension": ".py",
   "mimetype": "text/x-python",
   "name": "python",
   "nbconvert_exporter": "python",
   "pygments_lexer": "ipython3",
   "version": "3.9.4"
  }
 },
 "nbformat": 4,
 "nbformat_minor": 5
}
