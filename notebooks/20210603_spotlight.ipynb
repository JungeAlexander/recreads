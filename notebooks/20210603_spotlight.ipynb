{
 "cells": [
  {
   "cell_type": "code",
   "execution_count": null,
   "id": "0d751a91-2d87-443c-9be4-cbfdf07b0498",
   "metadata": {},
   "outputs": [],
   "source": [
    "import numpy as np\n",
    "import pandas as pd\n",
    "from spotlight.evaluation import mrr_score\n",
    "from spotlight.evaluation import rmse_score\n",
    "from spotlight.factorization.explicit import ExplicitFactorizationModel\n",
    "from spotlight.factorization.implicit import ImplicitFactorizationModel\n",
    "from spotlight.interactions import Interactions"
   ]
  },
  {
   "cell_type": "code",
   "execution_count": null,
   "id": "89c73d4f-4c9e-4eb0-8683-4daac2e68b43",
   "metadata": {},
   "outputs": [],
   "source": [
    "train_df = pd.read_parquet(\"../data/interim/20210602_initial_data_children_biography_train_dev_test/children-train.parquet\")"
   ]
  },
  {
   "cell_type": "code",
   "execution_count": null,
   "id": "5ac02468-0b01-43a1-b3f7-a7f0e5816fd1",
   "metadata": {},
   "outputs": [],
   "source": [
    "train_df = train_df.loc[:100000, :]"
   ]
  },
  {
   "cell_type": "code",
   "execution_count": null,
   "id": "95120f34-415b-4658-8561-5db68b15ce8c",
   "metadata": {},
   "outputs": [],
   "source": [
    "user_id_long_to_id = {_id: i for i, _id in enumerate(train_df[\"User_id\"].unique())}"
   ]
  },
  {
   "cell_type": "code",
   "execution_count": null,
   "id": "71d85dff-4b1f-4d41-83d5-53ec4d281008",
   "metadata": {},
   "outputs": [],
   "source": [
    "users = np.asarray([user_id_long_to_id[_id] for _id in train_df[\"User_id\"]], dtype=\"int32\")\n",
    "books = train_df[\"Book_id\"].values.astype(\"int32\")\n",
    "ratings = train_df[\"Rating\"].values.astype(\"float32\")"
   ]
  },
  {
   "cell_type": "code",
   "execution_count": null,
   "id": "46b2153e-70bb-412b-a019-7510bddeb358",
   "metadata": {},
   "outputs": [],
   "source": [
    "train = Interactions(users, books, ratings=ratings)"
   ]
  },
  {
   "cell_type": "code",
   "execution_count": null,
   "id": "dbbfd06f-9cb8-412e-afc9-d7a9243c4ca7",
   "metadata": {},
   "outputs": [],
   "source": [
    "len(train)"
   ]
  },
  {
   "cell_type": "code",
   "execution_count": null,
   "id": "fe5b6e37-785c-456d-b972-75f20ab28171",
   "metadata": {},
   "outputs": [],
   "source": [
    "model = ImplicitFactorizationModel(n_iter=1, loss='bpr')\n",
    "model.fit(train)"
   ]
  },
  {
   "cell_type": "code",
   "execution_count": null,
   "id": "8c07ffd2-ce15-461e-a471-b9f95b845208",
   "metadata": {},
   "outputs": [],
   "source": [
    "dev_df = pd.read_parquet(\"../data/interim/20210602_initial_data_children_biography_train_dev_test/children-dev.parquet\")"
   ]
  },
  {
   "cell_type": "code",
   "execution_count": null,
   "id": "d01546a6-323c-47a9-9352-901af5c7e373",
   "metadata": {},
   "outputs": [],
   "source": [
    "keep_indices = []\n",
    "book_ids = set(books)\n",
    "for _, row in dev_df.iterrows():\n",
    "    u_id = row[\"User_id\"]\n",
    "    b_id = int(row[\"Book_id\"])\n",
    "    if u_id in user_id_long_to_id and b_id in book_ids:\n",
    "        keep_indices.append(True)\n",
    "    else: \n",
    "        keep_indices.append(False)"
   ]
  },
  {
   "cell_type": "code",
   "execution_count": null,
   "id": "cac5f4eb-635c-4d99-b63c-79129cff7dbc",
   "metadata": {},
   "outputs": [],
   "source": [
    "dev_df = dev_df.loc[keep_indices, :]"
   ]
  },
  {
   "cell_type": "code",
   "execution_count": null,
   "id": "546324d0-2f30-4267-871a-4b1c83c5a2a8",
   "metadata": {},
   "outputs": [],
   "source": [
    "len(dev_df)"
   ]
  },
  {
   "cell_type": "code",
   "execution_count": null,
   "id": "35d276c0-5881-4672-b7e5-d0dc3a71b269",
   "metadata": {},
   "outputs": [],
   "source": [
    "dev_users = np.asarray([user_id_long_to_id[_id] for _id in dev_df[\"User_id\"]], dtype=\"int32\")\n",
    "dev_books = dev_df[\"Book_id\"].values.astype(\"int32\")\n",
    "dev_ratings = dev_df[\"Rating\"].values.astype(\"float32\")\n",
    "dev = Interactions(dev_users, dev_books, ratings=dev_ratings)"
   ]
  },
  {
   "cell_type": "code",
   "execution_count": null,
   "id": "99ffe7df-c8bc-4a2d-b131-fcf75a6d2645",
   "metadata": {},
   "outputs": [],
   "source": [
    "rmse = rmse_score(model, dev)\n",
    "rmse"
   ]
  },
  {
   "cell_type": "code",
   "execution_count": null,
   "id": "bbd15b5a-e2b6-43a8-9509-f117d3d9d7ad",
   "metadata": {},
   "outputs": [],
   "source": [
    "mrr = mrr_score(model, dev)\n",
    "mrr"
   ]
  }
 ],
 "metadata": {
  "kernelspec": {
   "display_name": "Python 3",
   "language": "python",
   "name": "python3"
  },
  "language_info": {
   "codemirror_mode": {
    "name": "ipython",
    "version": 3
   },
   "file_extension": ".py",
   "mimetype": "text/x-python",
   "name": "python",
   "nbconvert_exporter": "python",
   "pygments_lexer": "ipython3",
   "version": "3.9.4"
  }
 },
 "nbformat": 4,
 "nbformat_minor": 5
}
