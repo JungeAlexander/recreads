{
 "cells": [
  {
   "cell_type": "markdown",
   "id": "e737e161",
   "metadata": {},
   "source": [
    "# Downloading initial genre subsets of the Goodreads data"
   ]
  },
  {
   "cell_type": "code",
   "execution_count": null,
   "id": "e9c0e38b",
   "metadata": {},
   "outputs": [],
   "source": [
    "from pathlib import Path\n",
    "\n",
    "import pandas as pd\n",
    "import gdown"
   ]
  },
  {
   "cell_type": "code",
   "execution_count": null,
   "id": "93b4e556",
   "metadata": {},
   "outputs": [],
   "source": [
    "gdrive_ids = pd.read_csv(\"https://raw.githubusercontent.com/MengtingWan/goodreads/master/gdrive_id.csv\")"
   ]
  },
  {
   "cell_type": "code",
   "execution_count": null,
   "id": "1e2bc8f7",
   "metadata": {},
   "outputs": [],
   "source": [
    "download_dir = Path(\"../data/raw/20210527_initial_data_children_biography\")"
   ]
  },
  {
   "cell_type": "code",
   "execution_count": null,
   "id": "26330b78",
   "metadata": {},
   "outputs": [],
   "source": [
    "download_dir.mkdir(parents=True, exist_ok=True)"
   ]
  },
  {
   "cell_type": "markdown",
   "id": "5db667af",
   "metadata": {},
   "source": [
    "## Selecting and storing data for the children and biography genres"
   ]
  },
  {
   "cell_type": "code",
   "execution_count": null,
   "id": "4a5a3490",
   "metadata": {},
   "outputs": [],
   "source": [
    "children_ids = gdrive_ids.loc[gdrive_ids.loc[:, \"name\"].str.contains(\"children\"), :]"
   ]
  },
  {
   "cell_type": "code",
   "execution_count": null,
   "id": "f7e5491f",
   "metadata": {},
   "outputs": [],
   "source": [
    "biography_ids = gdrive_ids.loc[gdrive_ids.loc[:, \"name\"].str.contains(\"biography\"), :]"
   ]
  },
  {
   "cell_type": "code",
   "execution_count": null,
   "id": "35f1ccc3",
   "metadata": {},
   "outputs": [],
   "source": [
    "for _, row in pd.concat((children_ids, biography_ids), axis=0).iterrows():\n",
    "    print(f\"Downloading {row['name']}\")\n",
    "    url = f\"https://drive.google.com/uc?id={row['id']}\"\n",
    "    gdown.download(url, output=str(download_dir / row[\"name\"]), quiet=True)"
   ]
  }
 ],
 "metadata": {
  "kernelspec": {
   "display_name": "Python 3",
   "language": "python",
   "name": "python3"
  },
  "language_info": {
   "codemirror_mode": {
    "name": "ipython",
    "version": 3
   },
   "file_extension": ".py",
   "mimetype": "text/x-python",
   "name": "python",
   "nbconvert_exporter": "python",
   "pygments_lexer": "ipython3",
   "version": "3.9.4"
  }
 },
 "nbformat": 4,
 "nbformat_minor": 5
}
